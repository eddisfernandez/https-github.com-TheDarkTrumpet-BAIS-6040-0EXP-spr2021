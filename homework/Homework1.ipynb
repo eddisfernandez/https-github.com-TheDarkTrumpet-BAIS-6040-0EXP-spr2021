{
 "cells": [
  {
   "cell_type": "markdown",
   "metadata": {
    "collapsed": true,
    "pycharm": {
     "name": "#%% md\n"
    }
   },
   "source": [
    "# Homework 1\n",
    "\n",
    "This homework is designed to introduce you to using Jupyter Notebooks. You'll only have one Notebook to send in, but this homework is designed to give you an opportunity to get the required infrastructure setup and to start working with the notebooks. We'll have fairly simple operators that'll be required to be used\n",
    "\n",
    "When reading these notebooks, remember to pay attention to the output that I'm providing to you. The types are the most important, not so much the number. Also, try to take in account the format of your notebook (structure), and the naming of your variables. These components won't be weighted heavily this time around, but it's good practice.\n",
    "\n",
    "Submitter: Eddis Fernandez\n"
   ]
  },
  {
   "cell_type": "markdown",
   "metadata": {},
   "source": [
    "# Part 1.1\n",
    "Create a few variables. Note we'll use these variables later. Print out the variable name, value, and the type. One example is provided, but please create at least 2 more off any one of the 4 types provided. All three types should be different types. You can do this in 3 cells, or in one. Probably good to play with both to ensure you understand how to do a print statement along with other calls.\n",
    "\n",
    "To create other cells, note you can hit the \"+\" icon at the top of your window to create a new cell. Remember to change it to a code type!"
   ]
  },
  {
   "cell_type": "code",
   "execution_count": 1,
   "metadata": {},
   "outputs": [
    {
     "name": "stdout",
     "output_type": "stream",
     "text": [
      "The variable, my_name, is defined as Eddis Fernandez and is of type <class 'str'>\n",
      "The variable, my_number, is defined as 3194154463 and is of type <class 'int'>\n",
      "The variable, myname, is defined as 45.5 and is of type <class 'float'>\n"
     ]
    }
   ],
   "source": [
    "my_name = \"Eddis Fernandez\"\n",
    "my_number = 3194154463\n",
    "my_age = 45.5\n",
    "print(f\"The variable, my_name, is defined as {my_name} and is of type {type(my_name)}\")\n",
    "print(f\"The variable, my_number, is defined as {my_number} and is of type {type(my_number)}\")\n",
    "print(f\"The variable, myname, is defined as {my_age} and is of type {type(my_age)}\")"
   ]
  },
  {
   "cell_type": "markdown",
   "metadata": {
    "pycharm": {
     "name": "#%%\n"
    }
   },
   "source": [
    "## Part 1.2\n",
    "Now, we'll look at changing a variable from one type to another. For example, look at myName above. Right now that's a type of string, but let's use a different type. In my case, I'll change it to a float. So, for your other two variables (defined in 1.1), reassign and re-output like before. Pick different types."
   ]
  },
  {
   "cell_type": "code",
   "execution_count": 2,
   "metadata": {
    "pycharm": {
     "name": "#%%\n"
    }
   },
   "outputs": [
    {
     "name": "stdout",
     "output_type": "stream",
     "text": [
      "The variable, my_Name, is defined as 3194154463 and is of type <class 'int'>\n",
      "The variable, my_number, is defined as Eddis Fernandez and is of type <class 'str'>\n",
      "The variable, my_age, is defined as True and is of type <class 'bool'>\n"
     ]
    }
   ],
   "source": [
    "my_name =  3194154463\n",
    "my_number =\"Eddis Fernandez\"\n",
    "my_age = True\n",
    "print(f\"The variable, my_Name, is defined as {my_name} and is of type {type(my_name)}\")\n",
    "print(f\"The variable, my_number, is defined as {my_number} and is of type {type(my_number)}\")\n",
    "print(f\"The variable, my_age, is defined as {my_age} and is of type {type(my_age)}\")"
   ]
  },
  {
   "cell_type": "markdown",
   "metadata": {
    "pycharm": {
     "name": "#%%\n"
    }
   },
   "source": [
    "## Part 2 - Running out of order\n",
    "One issue that you'll likely run into at least a dozen or so times (if not more like hundreds long term), is the fact that you'll end up seeing unexpected results as you're working with a notebook. We'll demonstrate this now.\n",
    "\n",
    "In the following cell (after example), take a variable you defined previously, and print it out. Remember, you can put the variable, by itself, and have it print the results without needing a print statement (the last statement in a block will print, if applicable).\n",
    "\n",
    "Then, rerun the cell where you for the corresponding variable in 1.1. Then rerun the cell below to see how the variable changes. Look at this in comparison to what the output was in 1.2\n",
    "\n",
    "Below is an example, do your test after"
   ]
  },
  {
   "cell_type": "code",
   "execution_count": 3,
   "metadata": {
    "pycharm": {
     "name": "#%%\n"
    }
   },
   "outputs": [
    {
     "data": {
      "text/plain": [
       "3194154463"
      ]
     },
     "execution_count": 3,
     "metadata": {},
     "output_type": "execute_result"
    }
   ],
   "source": [
    "my_name"
   ]
  },
  {
   "cell_type": "code",
   "execution_count": 4,
   "metadata": {
    "pycharm": {
     "name": "#%%\n"
    }
   },
   "outputs": [
    {
     "data": {
      "text/plain": [
       "True"
      ]
     },
     "execution_count": 4,
     "metadata": {},
     "output_type": "execute_result"
    }
   ],
   "source": [
    "my_age # It cchange to a boolean because 1.2\n"
   ]
  },
  {
   "cell_type": "code",
   "execution_count": 5,
   "metadata": {
    "collapsed": true
   },
   "outputs": [],
   "source": [
    "# Fixing my_age to what it supposed to be from 1.1\n",
    "# I will re define the variable so when I re run the entire notebook, the difference becomes obvious\n",
    "my_age = 45.5"
   ]
  },
  {
   "cell_type": "markdown",
   "metadata": {
    "pycharm": {
     "name": "#%%\n"
    }
   },
   "source": [
    "## Part 2 - Running out of order (cont.)\n",
    "You should notice the value is different than expected. Be sure to pay special attention to the number besides the code cells to figure out what was run, and the order of it (incrementing order)\n",
    "\n",
    "Before going on, lets solve the out-of-order issue. At this point, please restart the kernel and run from start to finish (run all). Look at how your value changes, and how the number change."
   ]
  },
  {
   "cell_type": "markdown",
   "metadata": {
    "pycharm": {
     "name": "#%% md\n"
    }
   },
   "source": [
    "## Part 3 - Operator Practice\n",
    "In this part, we'll go through some operators, and practice them. I've defined some variables for you already, and we'll use them going forward. Please do not reassign/overwrite these variables. Each operator practice should be in individual blocks. The first example is provided."
   ]
  },
  {
   "cell_type": "code",
   "execution_count": 6,
   "metadata": {
    "collapsed": true,
    "pycharm": {
     "name": "#%%\n"
    }
   },
   "outputs": [],
   "source": [
    "value_one = 505\n",
    "value_two = True\n",
    "value_three = 15.342\n",
    "value_four = \"Fuzzy bear\""
   ]
  },
  {
   "cell_type": "code",
   "execution_count": 7,
   "metadata": {
    "pycharm": {
     "name": "#%%\n"
    }
   },
   "outputs": [
    {
     "data": {
      "text/plain": [
       "520.342"
      ]
     },
     "execution_count": 7,
     "metadata": {},
     "output_type": "execute_result"
    }
   ],
   "source": [
    "# Add valueOne to valueThree\n",
    "value_one + value_three"
   ]
  },
  {
   "cell_type": "code",
   "execution_count": 8,
   "metadata": {},
   "outputs": [
    {
     "data": {
      "text/plain": [
       "489.658"
      ]
     },
     "execution_count": 8,
     "metadata": {},
     "output_type": "execute_result"
    }
   ],
   "source": [
    "# Subtract valueThree from valueOne\n",
    "value_one - value_three\n"
   ]
  },
  {
   "cell_type": "code",
   "execution_count": 9,
   "metadata": {},
   "outputs": [
    {
     "name": "stdout",
     "output_type": "stream",
     "text": [
      "520.342 Fuzzy bear\n"
     ]
    }
   ],
   "source": [
    "# Add valueOne to valueThree and concatenate it to valueFour\n",
    "# The result should be: \"520.342 Fuzzy bear\"\n",
    "\n",
    "print(value_one + value_three , value_four)"
   ]
  },
  {
   "cell_type": "code",
   "execution_count": 10,
   "metadata": {},
   "outputs": [
    {
     "data": {
      "text/plain": [
       "520"
      ]
     },
     "execution_count": 10,
     "metadata": {},
     "output_type": "execute_result"
    }
   ],
   "source": [
    "# Cast valueThree to an int, and add it to valueOne\n",
    "# The result should be 520\n",
    "int(value_three) + value_one"
   ]
  },
  {
   "cell_type": "code",
   "execution_count": 11,
   "metadata": {},
   "outputs": [
    {
     "data": {
      "text/plain": [
       "506"
      ]
     },
     "execution_count": 11,
     "metadata": {},
     "output_type": "execute_result"
    }
   ],
   "source": [
    "# Cast valueTwo to an int, add it to valueOne\n",
    "int(value_two) + value_one"
   ]
  },
  {
   "cell_type": "code",
   "execution_count": 12,
   "metadata": {},
   "outputs": [
    {
     "name": "stdout",
     "output_type": "stream",
     "text": [
      "valueOne => 505, valueTwo => True, valueThree => 15.342, valueFour => Fuzzy bear \n"
     ]
    }
   ],
   "source": [
    "# Using an F-string, and without the print statement, generate a string that has the following result:\n",
    "# 'valueOne => 505, valueTwo => True, valueThree => 15.342, valueFour => Fuzzy bear'\n",
    "print(f\"valueOne => {value_one}, valueTwo => {value_two}, valueThree => {value_three}, valueFour => {value_four} \")"
   ]
  },
  {
   "cell_type": "markdown",
   "metadata": {},
   "source": [
    "## Part 4 - Working with errors in code (part 1)\n",
    "Errors in source code do happen. We talked about one case earlier in regard to \"out-of-order\" based runs, but another common one are hard line exceptions. We'll cover exceptions a bit more in-depth in module 3, but to get better marks on your homework, it's important to resolve those issues. We'll do a division by 0 error below, which mathematically speaking you can't divide anything by 0 (approaches infinity). Don't fix this issue yet, but run the below cell and pay attention to the output and what it's telling you. After you look at the message, go on with the exercise without fixing it yet, there's a further concept we'll illustrate later why this is important."
   ]
  },
  {
   "cell_type": "raw",
   "metadata": {},
   "source": [
    "# I don't understand what DivideByZero means 5/0\n",
    "5/0"
   ]
  },
  {
   "cell_type": "code",
   "execution_count": 13,
   "metadata": {
    "collapsed": true
   },
   "outputs": [],
   "source": [
    "# Make sure you run the below cell before continuing on, the variables won't be available otherwise!\n",
    "orange_price = 2.50\n",
    "banana_price = 2.00\n",
    "flour_price = 5.99\n",
    "tomato_price = 1.50\n",
    "cheese_price = 6.99"
   ]
  },
  {
   "cell_type": "code",
   "execution_count": 14,
   "metadata": {},
   "outputs": [
    {
     "data": {
      "text/plain": [
       "14.48"
      ]
     },
     "execution_count": 14,
     "metadata": {},
     "output_type": "execute_result"
    }
   ],
   "source": [
    "\n",
    "# Provided as an example...\n",
    "pizza_ingredients_price = cheese_price+flour_price+tomato_price\n",
    "pizza_ingredients_price"
   ]
  },
  {
   "cell_type": "code",
   "execution_count": 15,
   "metadata": {},
   "outputs": [
    {
     "data": {
      "text/plain": [
       "6.0"
      ]
     },
     "execution_count": 15,
     "metadata": {},
     "output_type": "execute_result"
    }
   ],
   "source": [
    "fresh_produce_price = orange_price + banana_price + tomato_price\n",
    "fresh_produce_price"
   ]
  },
  {
   "cell_type": "code",
   "execution_count": 16,
   "metadata": {},
   "outputs": [
    {
     "data": {
      "text/plain": [
       "2.0"
      ]
     },
     "execution_count": 16,
     "metadata": {},
     "output_type": "execute_result"
    }
   ],
   "source": [
    "\n",
    "average_fresh_produce_price = fresh_produce_price/3\n",
    "average_fresh_produce_price"
   ]
  },
  {
   "cell_type": "code",
   "execution_count": 17,
   "metadata": {},
   "outputs": [
    {
     "data": {
      "text/plain": [
       "7.99"
      ]
     },
     "execution_count": 17,
     "metadata": {},
     "output_type": "execute_result"
    }
   ],
   "source": [
    "banana_bread_price = banana_price + flour_price\n",
    "banana_bread_price"
   ]
  },
  {
   "cell_type": "markdown",
   "metadata": {},
   "source": [
    "Part 6 - Preparing to turn in your homework.\n",
    "When turning in your homework, there are some criteria you should be aware of that will impact your grade. Remember first, we're working with a 70% correctness, and 30% format/naming criteria here. The first few homeworks will be lightly impacted by the format/naming, but it'll become far more important starting around homework 3 and 4. Some things you want to watch for, for each criteria, and how to solve it:\n",
    "\n",
    "Correctness:\n",
    "What to look for\tTips to Solve\n",
    "Does the entire notebook run, start to finish\tBefore turning in your notebook, be sure to click \"restart kernel\" and run all cells. Look to the left of the code cells and make sure that you see numbers, and no exceptions\n",
    "Does it produce the expected output\tYou can work with the values that I provide, and aim to get the same output as a validation step. Often times it's best to look over your logic.\n",
    "Are you using the right algorithm(s)?\tYou don't have to worry much about this right now, but in module 2 and further on, we'll start getting into loops and multiple ways of coding a particular solution. Is the algorithm you choose the better one?\n",
    "Am I using the right libraries/functionality?\tIn general, try to use what's provided up to that point in class. In other words, if you decide to use a library that either isn't covered, or hasn't been covered up to this point, and the reason can't be justified, it'll impact your grade.\n",
    "Format:\n",
    "What to look for\tTips to Solve\n",
    "Do the variable names make sense and describe the data it holds\tNames should be descriptive, like we did in part 5. Aim for something similar\n",
    "Is the naming convention consistent?\tThere are many options for names, but it's important to be consistent. For example, PizzaPrice, pizzaPrice, and pizza_price are all ways of describing the name contents, but have different formats. Pick a style, and stick to it\n",
    "Is there documentation where it needs to be?\tI recommend that you have your notebook setup in a certain way with an introduction at top, helper functions next, implementation last. With other chunks to denote very different areas of one's notebook (e.g. loading data from plots, etc.)\n",
    "In our notebook here, we left an error in part 4. There are two parts to all this.\n",
    "\n",
    "First, restart the kernel, and click \"run all\". Scroll through the results. Notice what cells are returning values and which ones aren't. Pay special attention to part 4. You should see the exception, but look at part 5. Did any of that get printed out?\n",
    "\n",
    "For the purposes of this exercise, lets assume this is a block of code that you had problems with and wanted feedback on. Go back to part 4, where we did the division by 0 and change the cell from \"Code\" to \"Raw\" (You can do this by clicking on the cell, and looking at the dropdown at the top of the window). Now, put a comment of some kind above the code. I recommend in the same block that can say something like \"I don't understand what this exception means\". When asking for help in a notebook, this is what you do. Make the cell raw, add a comment, and go on.\n",
    "\n",
    "An example of how this should look, when done, is below:\n",
    "\n",
    "# I don't understand what DivideByZero means 5/0\n",
    "After you alter the cell, and add the comment, restart the kernel again and rerun the entire notebook. Now, you should see every code cell with results right after.\n",
    "\n",
    "Another tip for successfully completing homeworks (and tests). I provide the homework as in Github. If you are overwriting your checkout of the notebook, then I recommend you open the notebook in a web browser on github directly. This was described in the homework description video, but the direct link for this notebook is: Homework 1\n",
    "\n",
    "This is a complete notebook. This notebook, is what you turn in."
   ]
  }
 ],
 "metadata": {
  "kernelspec": {
   "display_name": "Python 3",
   "language": "python",
   "name": "python3"
  },
  "language_info": {
   "codemirror_mode": {
    "name": "ipython",
    "version": 3
   },
   "file_extension": ".py",
   "mimetype": "text/x-python",
   "name": "python",
   "nbconvert_exporter": "python",
   "pygments_lexer": "ipython3",
   "version": "3.6.1"
  }
 },
 "nbformat": 4,
 "nbformat_minor": 1
}
